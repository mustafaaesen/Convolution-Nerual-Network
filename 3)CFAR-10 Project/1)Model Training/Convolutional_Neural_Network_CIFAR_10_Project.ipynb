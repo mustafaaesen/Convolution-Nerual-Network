{
  "nbformat": 4,
  "nbformat_minor": 0,
  "metadata": {
    "colab": {
      "provenance": []
    },
    "kernelspec": {
      "name": "python3",
      "display_name": "Python 3"
    },
    "language_info": {
      "name": "python"
    }
  },
  "cells": [
    {
      "cell_type": "code",
      "execution_count": null,
      "metadata": {
        "id": "swpbOQTZxadU"
      },
      "outputs": [],
      "source": [
        "#10 sınıftan oluşan renkli görsel veri seti olan CIFAR-10\n",
        "#ile cnn modeli eğitip farklı projede bu modeli test edeceğiz\n",
        "#Bu kısım model eğitim kısmıdır.\n",
        "#32x32 boyutunda ve renkli 3 kanal RGB çalışır"
      ]
    },
    {
      "cell_type": "code",
      "source": [
        "import tensorflow as tf\n",
        "#derin öğrenme modeli için gereklidir\n",
        "\n",
        "from tensorflow.keras.models import Sequential, load_model\n",
        "from tensorflow.keras.layers import Conv2D, MaxPooling2D, Flatten, Dense,Dropout\n",
        "from tensorflow.keras.utils import to_categorical\n",
        "#CNN modeli oluşturmak için gereklidir\n",
        "\n",
        "from tensorflow.keras.datasets import cifar10\n",
        "#CIFAR-10 veri setini yüklemek için\n",
        "\n",
        "import numpy as np\n",
        "\n",
        "import matplotlib.pyplot as plt\n",
        "#Görselleştirmek için\n",
        "\n"
      ],
      "metadata": {
        "id": "fJX9Y9WXxzzF"
      },
      "execution_count": null,
      "outputs": []
    },
    {
      "cell_type": "code",
      "source": [
        "#CIFAR-10 veri setini yükleme\n",
        "\n",
        "(x_train, y_train),(x_test, y_test) = cifar10.load_data()\n",
        "#cifar-10 veri setini indirip eğitim ve test verisi olarak ayırma\n",
        "\n",
        "print(\"Eğitim verisi şekli:\",x_train.shape)\n",
        "print(\"Test verisi şekli:\",x_test.shape)\n"
      ],
      "metadata": {
        "colab": {
          "base_uri": "https://localhost:8080/"
        },
        "id": "JzlAZzvvyfs5",
        "outputId": "8d51e0f3-2950-4bd6-c163-c68fcdefc7de"
      },
      "execution_count": null,
      "outputs": [
        {
          "output_type": "stream",
          "name": "stdout",
          "text": [
            "Eğitim verisi şekli: (50000, 32, 32, 3)\n",
            "Test verisi şekli: (10000, 32, 32, 3)\n"
          ]
        }
      ]
    },
    {
      "cell_type": "code",
      "source": [
        "\"\"\"\n",
        "Görseller 32x32 boyutunda 3 kanallı RGB şeklinde etiketler 0-9 arasında bunlara isim verilmeli\n",
        "\n",
        "\"\"\""
      ],
      "metadata": {
        "colab": {
          "base_uri": "https://localhost:8080/",
          "height": 35
        },
        "id": "LIXB-8Jpy3l1",
        "outputId": "a04d30c4-4118-4dc5-8934-e21b0272fd25"
      },
      "execution_count": null,
      "outputs": [
        {
          "output_type": "execute_result",
          "data": {
            "text/plain": [
              "'\\nGörseller 32x32 boyutunda 3 kanallı RGB şeklinde etiketler 0-9 arasında bunlara isim verilmeli\\n\\n'"
            ],
            "application/vnd.google.colaboratory.intrinsic+json": {
              "type": "string"
            }
          },
          "metadata": {},
          "execution_count": 18
        }
      ]
    },
    {
      "cell_type": "code",
      "source": [
        "#Etiket Tanımlama\n",
        "\n",
        "etiket_isimleri =[\n",
        "    \"Uçak\",\"Araba\",\"Kuş\",\"Kedi\",\"Geyik\",\"Köpek\",\"Kurbağa\",\"At\",\"Gemi\",\"Kamyon\"\n",
        "]"
      ],
      "metadata": {
        "id": "DIe3dpyKzB-2"
      },
      "execution_count": null,
      "outputs": []
    },
    {
      "cell_type": "code",
      "source": [
        "#Veri Ön İşleme\n",
        "\n",
        "x_train = x_train/255.0 # pixel değerlerini 0-1 arasında normalize etme\n",
        "x_test=x_test/255.0\n",
        "\n",
        "y_train=to_categorical(y_train,10)\n",
        "y_test = to_categorical(y_test,10)\n",
        "#etiketleri softmax için one-hot encode yapma"
      ],
      "metadata": {
        "id": "K5TRA7PxzPkg"
      },
      "execution_count": null,
      "outputs": []
    },
    {
      "cell_type": "code",
      "source": [
        "#CNN Modelini Oluşturma\n",
        "\n",
        "model=Sequential()\n",
        "#sıralı model oluşturma\n",
        "\n",
        "model.add(Conv2D(32,(3,3),activation='relu', input_shape=(32, 32, 3)))\n",
        "#ilk convolutioanl katman  32 filtre 3x3 boyut aktivasyon ReLU\n",
        "# 32x32 renkli 3 kanal giriş şekli\n",
        "\n",
        "model.add(MaxPooling2D((2,2)))#Görütüyü küçültmek için 2x2\n",
        "\n",
        "model.add(Conv2D(64, (3,3), activation='relu'))\n",
        "#ikinci convolutional 64 filtre daha derin özellikler\n",
        "model.add(MaxPooling2D((2,2)))\n",
        "#daha derin özellikleri görebilir\n",
        "\n",
        "model.add(Conv2D(128,(3, 3),activation='relu'))\n",
        "#üçüncü convolutional katman Daha fazla filtre 12 detay öğrenme için\n",
        "\n",
        "model.add(Flatten())# katmanları düzleştirir 2D-->1D\n",
        "\n",
        "model.add(Dense(128,activation='relu'))\n",
        "#yoğun bağlantılı katman 128 nöron\n",
        "\n",
        "model.add(Dropout(0.5))\n",
        "#Bu kataman %50 oranında bazı nöronları pasif hale getirir. overfittingi azaltmak\n",
        "#için\n",
        "\n",
        "model.add(Dense(10,activation='softmax'))"
      ],
      "metadata": {
        "id": "3hvVi0jJzkZI"
      },
      "execution_count": null,
      "outputs": []
    },
    {
      "cell_type": "code",
      "source": [
        "#Model Derleme\n",
        "\n",
        "#Modeli optimizer loss fonksiyonları ile derleyip metriklerini accuracy aldık\n",
        "\n",
        "model.compile(\n",
        "    optimizer='adam',   #optimizasyon algoritması\n",
        "    loss='categorical_crossentropy', #çok sınıflı sınıflandırma\n",
        "    metrics=['accuracy']   #doğruluk metriği\n",
        ")"
      ],
      "metadata": {
        "id": "TwU3o8Li04ZH"
      },
      "execution_count": null,
      "outputs": []
    },
    {
      "cell_type": "code",
      "source": [
        "#Model Eğitimi\n",
        "\n",
        "#modeli 10 kez her seferinde 64 örnek olacak şekilde eğitiyoruz\n",
        "\n",
        "model.fit(\n",
        "    x_train,y_train,\n",
        "    epochs=10,\n",
        "    batch_size=64,\n",
        "    validation_data=(x_test, y_test) #eğitim sırasında test seti ile başarı takibi\n",
        ")"
      ],
      "metadata": {
        "colab": {
          "base_uri": "https://localhost:8080/"
        },
        "id": "Txq2CutE1Pm0",
        "outputId": "11a3a46b-52bc-4e93-c199-72ef43d20ddd"
      },
      "execution_count": null,
      "outputs": [
        {
          "output_type": "stream",
          "name": "stdout",
          "text": [
            "Epoch 1/10\n",
            "\u001b[1m782/782\u001b[0m \u001b[32m━━━━━━━━━━━━━━━━━━━━\u001b[0m\u001b[37m\u001b[0m \u001b[1m74s\u001b[0m 93ms/step - accuracy: 0.2999 - loss: 1.8749 - val_accuracy: 0.5270 - val_loss: 1.3192\n",
            "Epoch 2/10\n",
            "\u001b[1m782/782\u001b[0m \u001b[32m━━━━━━━━━━━━━━━━━━━━\u001b[0m\u001b[37m\u001b[0m \u001b[1m82s\u001b[0m 92ms/step - accuracy: 0.5217 - loss: 1.3374 - val_accuracy: 0.5851 - val_loss: 1.1779\n",
            "Epoch 3/10\n",
            "\u001b[1m782/782\u001b[0m \u001b[32m━━━━━━━━━━━━━━━━━━━━\u001b[0m\u001b[37m\u001b[0m \u001b[1m81s\u001b[0m 92ms/step - accuracy: 0.5899 - loss: 1.1629 - val_accuracy: 0.6479 - val_loss: 0.9958\n",
            "Epoch 4/10\n",
            "\u001b[1m782/782\u001b[0m \u001b[32m━━━━━━━━━━━━━━━━━━━━\u001b[0m\u001b[37m\u001b[0m \u001b[1m73s\u001b[0m 94ms/step - accuracy: 0.6412 - loss: 1.0358 - val_accuracy: 0.6730 - val_loss: 0.9264\n",
            "Epoch 5/10\n",
            "\u001b[1m782/782\u001b[0m \u001b[32m━━━━━━━━━━━━━━━━━━━━\u001b[0m\u001b[37m\u001b[0m \u001b[1m81s\u001b[0m 93ms/step - accuracy: 0.6745 - loss: 0.9383 - val_accuracy: 0.6861 - val_loss: 0.9055\n",
            "Epoch 6/10\n",
            "\u001b[1m782/782\u001b[0m \u001b[32m━━━━━━━━━━━━━━━━━━━━\u001b[0m\u001b[37m\u001b[0m \u001b[1m80s\u001b[0m 91ms/step - accuracy: 0.6943 - loss: 0.8681 - val_accuracy: 0.7035 - val_loss: 0.8622\n",
            "Epoch 7/10\n",
            "\u001b[1m782/782\u001b[0m \u001b[32m━━━━━━━━━━━━━━━━━━━━\u001b[0m\u001b[37m\u001b[0m \u001b[1m72s\u001b[0m 92ms/step - accuracy: 0.7172 - loss: 0.8090 - val_accuracy: 0.6981 - val_loss: 0.8785\n",
            "Epoch 8/10\n",
            "\u001b[1m782/782\u001b[0m \u001b[32m━━━━━━━━━━━━━━━━━━━━\u001b[0m\u001b[37m\u001b[0m \u001b[1m85s\u001b[0m 96ms/step - accuracy: 0.7350 - loss: 0.7545 - val_accuracy: 0.7244 - val_loss: 0.8158\n",
            "Epoch 9/10\n",
            "\u001b[1m782/782\u001b[0m \u001b[32m━━━━━━━━━━━━━━━━━━━━\u001b[0m\u001b[37m\u001b[0m \u001b[1m79s\u001b[0m 93ms/step - accuracy: 0.7496 - loss: 0.7121 - val_accuracy: 0.7171 - val_loss: 0.8356\n",
            "Epoch 10/10\n",
            "\u001b[1m782/782\u001b[0m \u001b[32m━━━━━━━━━━━━━━━━━━━━\u001b[0m\u001b[37m\u001b[0m \u001b[1m81s\u001b[0m 92ms/step - accuracy: 0.7603 - loss: 0.6785 - val_accuracy: 0.7272 - val_loss: 0.8061\n"
          ]
        },
        {
          "output_type": "execute_result",
          "data": {
            "text/plain": [
              "<keras.src.callbacks.history.History at 0x7d824f85fed0>"
            ]
          },
          "metadata": {},
          "execution_count": 24
        }
      ]
    },
    {
      "cell_type": "code",
      "source": [
        "#Modeli Kaydetme\n",
        "\n",
        "model.save(\"cifar-10_modeli.h5\")\n",
        "print(\"Model başarıyla .h5 dosyasına kaydedildi\")"
      ],
      "metadata": {
        "colab": {
          "base_uri": "https://localhost:8080/"
        },
        "id": "ZscnULNh-BLM",
        "outputId": "ed49171a-1684-4ebc-e471-ec808dbe3c78"
      },
      "execution_count": null,
      "outputs": [
        {
          "output_type": "stream",
          "name": "stderr",
          "text": [
            "WARNING:absl:You are saving your model as an HDF5 file via `model.save()` or `keras.saving.save_model(model)`. This file format is considered legacy. We recommend using instead the native Keras format, e.g. `model.save('my_model.keras')` or `keras.saving.save_model(model, 'my_model.keras')`. \n"
          ]
        },
        {
          "output_type": "stream",
          "name": "stdout",
          "text": [
            "Model başarıyla .h5 dosyasına kaydedildi\n"
          ]
        }
      ]
    },
    {
      "cell_type": "code",
      "source": [
        "#Modeli İndirme\n",
        "\n",
        "from google.colab import files\n",
        "\n",
        "files.download(\"cifar-10_modeli.h5\")"
      ],
      "metadata": {
        "colab": {
          "base_uri": "https://localhost:8080/",
          "height": 17
        },
        "id": "ubwoEBT0-L4p",
        "outputId": "48a2cb6e-fe75-4a83-9d68-39bbaebe4621"
      },
      "execution_count": null,
      "outputs": [
        {
          "output_type": "display_data",
          "data": {
            "text/plain": [
              "<IPython.core.display.Javascript object>"
            ],
            "application/javascript": [
              "\n",
              "    async function download(id, filename, size) {\n",
              "      if (!google.colab.kernel.accessAllowed) {\n",
              "        return;\n",
              "      }\n",
              "      const div = document.createElement('div');\n",
              "      const label = document.createElement('label');\n",
              "      label.textContent = `Downloading \"${filename}\": `;\n",
              "      div.appendChild(label);\n",
              "      const progress = document.createElement('progress');\n",
              "      progress.max = size;\n",
              "      div.appendChild(progress);\n",
              "      document.body.appendChild(div);\n",
              "\n",
              "      const buffers = [];\n",
              "      let downloaded = 0;\n",
              "\n",
              "      const channel = await google.colab.kernel.comms.open(id);\n",
              "      // Send a message to notify the kernel that we're ready.\n",
              "      channel.send({})\n",
              "\n",
              "      for await (const message of channel.messages) {\n",
              "        // Send a message to notify the kernel that we're ready.\n",
              "        channel.send({})\n",
              "        if (message.buffers) {\n",
              "          for (const buffer of message.buffers) {\n",
              "            buffers.push(buffer);\n",
              "            downloaded += buffer.byteLength;\n",
              "            progress.value = downloaded;\n",
              "          }\n",
              "        }\n",
              "      }\n",
              "      const blob = new Blob(buffers, {type: 'application/binary'});\n",
              "      const a = document.createElement('a');\n",
              "      a.href = window.URL.createObjectURL(blob);\n",
              "      a.download = filename;\n",
              "      div.appendChild(a);\n",
              "      a.click();\n",
              "      div.remove();\n",
              "    }\n",
              "  "
            ]
          },
          "metadata": {}
        },
        {
          "output_type": "display_data",
          "data": {
            "text/plain": [
              "<IPython.core.display.Javascript object>"
            ],
            "application/javascript": [
              "download(\"download_6c764876-24de-4ce3-b83d-5c022554c3c5\", \"cifar-10_modeli.h5\", 4327952)"
            ]
          },
          "metadata": {}
        }
      ]
    }
  ]
}