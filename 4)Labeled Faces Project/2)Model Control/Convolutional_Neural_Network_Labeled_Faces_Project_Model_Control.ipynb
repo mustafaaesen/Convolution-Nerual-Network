{
  "nbformat": 4,
  "nbformat_minor": 0,
  "metadata": {
    "colab": {
      "provenance": []
    },
    "kernelspec": {
      "name": "python3",
      "display_name": "Python 3"
    },
    "language_info": {
      "name": "python"
    }
  },
  "cells": [
    {
      "cell_type": "code",
      "execution_count": null,
      "metadata": {
        "id": "qUS9nhLwq-0j"
      },
      "outputs": [],
      "source": [
        "#Burada Yüz Tanıma Amaçlı Eğittiğimiz CNN Modelini Test Edeceğiz\n"
      ]
    },
    {
      "cell_type": "code",
      "source": [
        "from google.colab import files\n",
        "\n",
        "# .h5 dosyasını bilgisayarından seçip yükle\n",
        "uploaded = files.upload()\n"
      ],
      "metadata": {
        "colab": {
          "base_uri": "https://localhost:8080/",
          "height": 73
        },
        "id": "c4qzwU8IrK7I",
        "outputId": "6ce7e88d-da6d-4faf-9a9b-27ed13521e11"
      },
      "execution_count": null,
      "outputs": [
        {
          "output_type": "display_data",
          "data": {
            "text/plain": [
              "<IPython.core.display.HTML object>"
            ],
            "text/html": [
              "\n",
              "     <input type=\"file\" id=\"files-6c05f7eb-76f9-4289-8488-1d052043efda\" name=\"files[]\" multiple disabled\n",
              "        style=\"border:none\" />\n",
              "     <output id=\"result-6c05f7eb-76f9-4289-8488-1d052043efda\">\n",
              "      Upload widget is only available when the cell has been executed in the\n",
              "      current browser session. Please rerun this cell to enable.\n",
              "      </output>\n",
              "      <script>// Copyright 2017 Google LLC\n",
              "//\n",
              "// Licensed under the Apache License, Version 2.0 (the \"License\");\n",
              "// you may not use this file except in compliance with the License.\n",
              "// You may obtain a copy of the License at\n",
              "//\n",
              "//      http://www.apache.org/licenses/LICENSE-2.0\n",
              "//\n",
              "// Unless required by applicable law or agreed to in writing, software\n",
              "// distributed under the License is distributed on an \"AS IS\" BASIS,\n",
              "// WITHOUT WARRANTIES OR CONDITIONS OF ANY KIND, either express or implied.\n",
              "// See the License for the specific language governing permissions and\n",
              "// limitations under the License.\n",
              "\n",
              "/**\n",
              " * @fileoverview Helpers for google.colab Python module.\n",
              " */\n",
              "(function(scope) {\n",
              "function span(text, styleAttributes = {}) {\n",
              "  const element = document.createElement('span');\n",
              "  element.textContent = text;\n",
              "  for (const key of Object.keys(styleAttributes)) {\n",
              "    element.style[key] = styleAttributes[key];\n",
              "  }\n",
              "  return element;\n",
              "}\n",
              "\n",
              "// Max number of bytes which will be uploaded at a time.\n",
              "const MAX_PAYLOAD_SIZE = 100 * 1024;\n",
              "\n",
              "function _uploadFiles(inputId, outputId) {\n",
              "  const steps = uploadFilesStep(inputId, outputId);\n",
              "  const outputElement = document.getElementById(outputId);\n",
              "  // Cache steps on the outputElement to make it available for the next call\n",
              "  // to uploadFilesContinue from Python.\n",
              "  outputElement.steps = steps;\n",
              "\n",
              "  return _uploadFilesContinue(outputId);\n",
              "}\n",
              "\n",
              "// This is roughly an async generator (not supported in the browser yet),\n",
              "// where there are multiple asynchronous steps and the Python side is going\n",
              "// to poll for completion of each step.\n",
              "// This uses a Promise to block the python side on completion of each step,\n",
              "// then passes the result of the previous step as the input to the next step.\n",
              "function _uploadFilesContinue(outputId) {\n",
              "  const outputElement = document.getElementById(outputId);\n",
              "  const steps = outputElement.steps;\n",
              "\n",
              "  const next = steps.next(outputElement.lastPromiseValue);\n",
              "  return Promise.resolve(next.value.promise).then((value) => {\n",
              "    // Cache the last promise value to make it available to the next\n",
              "    // step of the generator.\n",
              "    outputElement.lastPromiseValue = value;\n",
              "    return next.value.response;\n",
              "  });\n",
              "}\n",
              "\n",
              "/**\n",
              " * Generator function which is called between each async step of the upload\n",
              " * process.\n",
              " * @param {string} inputId Element ID of the input file picker element.\n",
              " * @param {string} outputId Element ID of the output display.\n",
              " * @return {!Iterable<!Object>} Iterable of next steps.\n",
              " */\n",
              "function* uploadFilesStep(inputId, outputId) {\n",
              "  const inputElement = document.getElementById(inputId);\n",
              "  inputElement.disabled = false;\n",
              "\n",
              "  const outputElement = document.getElementById(outputId);\n",
              "  outputElement.innerHTML = '';\n",
              "\n",
              "  const pickedPromise = new Promise((resolve) => {\n",
              "    inputElement.addEventListener('change', (e) => {\n",
              "      resolve(e.target.files);\n",
              "    });\n",
              "  });\n",
              "\n",
              "  const cancel = document.createElement('button');\n",
              "  inputElement.parentElement.appendChild(cancel);\n",
              "  cancel.textContent = 'Cancel upload';\n",
              "  const cancelPromise = new Promise((resolve) => {\n",
              "    cancel.onclick = () => {\n",
              "      resolve(null);\n",
              "    };\n",
              "  });\n",
              "\n",
              "  // Wait for the user to pick the files.\n",
              "  const files = yield {\n",
              "    promise: Promise.race([pickedPromise, cancelPromise]),\n",
              "    response: {\n",
              "      action: 'starting',\n",
              "    }\n",
              "  };\n",
              "\n",
              "  cancel.remove();\n",
              "\n",
              "  // Disable the input element since further picks are not allowed.\n",
              "  inputElement.disabled = true;\n",
              "\n",
              "  if (!files) {\n",
              "    return {\n",
              "      response: {\n",
              "        action: 'complete',\n",
              "      }\n",
              "    };\n",
              "  }\n",
              "\n",
              "  for (const file of files) {\n",
              "    const li = document.createElement('li');\n",
              "    li.append(span(file.name, {fontWeight: 'bold'}));\n",
              "    li.append(span(\n",
              "        `(${file.type || 'n/a'}) - ${file.size} bytes, ` +\n",
              "        `last modified: ${\n",
              "            file.lastModifiedDate ? file.lastModifiedDate.toLocaleDateString() :\n",
              "                                    'n/a'} - `));\n",
              "    const percent = span('0% done');\n",
              "    li.appendChild(percent);\n",
              "\n",
              "    outputElement.appendChild(li);\n",
              "\n",
              "    const fileDataPromise = new Promise((resolve) => {\n",
              "      const reader = new FileReader();\n",
              "      reader.onload = (e) => {\n",
              "        resolve(e.target.result);\n",
              "      };\n",
              "      reader.readAsArrayBuffer(file);\n",
              "    });\n",
              "    // Wait for the data to be ready.\n",
              "    let fileData = yield {\n",
              "      promise: fileDataPromise,\n",
              "      response: {\n",
              "        action: 'continue',\n",
              "      }\n",
              "    };\n",
              "\n",
              "    // Use a chunked sending to avoid message size limits. See b/62115660.\n",
              "    let position = 0;\n",
              "    do {\n",
              "      const length = Math.min(fileData.byteLength - position, MAX_PAYLOAD_SIZE);\n",
              "      const chunk = new Uint8Array(fileData, position, length);\n",
              "      position += length;\n",
              "\n",
              "      const base64 = btoa(String.fromCharCode.apply(null, chunk));\n",
              "      yield {\n",
              "        response: {\n",
              "          action: 'append',\n",
              "          file: file.name,\n",
              "          data: base64,\n",
              "        },\n",
              "      };\n",
              "\n",
              "      let percentDone = fileData.byteLength === 0 ?\n",
              "          100 :\n",
              "          Math.round((position / fileData.byteLength) * 100);\n",
              "      percent.textContent = `${percentDone}% done`;\n",
              "\n",
              "    } while (position < fileData.byteLength);\n",
              "  }\n",
              "\n",
              "  // All done.\n",
              "  yield {\n",
              "    response: {\n",
              "      action: 'complete',\n",
              "    }\n",
              "  };\n",
              "}\n",
              "\n",
              "scope.google = scope.google || {};\n",
              "scope.google.colab = scope.google.colab || {};\n",
              "scope.google.colab._files = {\n",
              "  _uploadFiles,\n",
              "  _uploadFilesContinue,\n",
              "};\n",
              "})(self);\n",
              "</script> "
            ]
          },
          "metadata": {}
        },
        {
          "output_type": "stream",
          "name": "stdout",
          "text": [
            "Saving lfw-deepfunneled.zip to lfw-deepfunneled (1).zip\n"
          ]
        }
      ]
    },
    {
      "cell_type": "code",
      "source": [
        "from google.colab import files\n",
        "uploaded = files.upload()  # .zip olarak yükle\n"
      ],
      "metadata": {
        "colab": {
          "base_uri": "https://localhost:8080/",
          "height": 73
        },
        "id": "XabyZ4UEtl0_",
        "outputId": "5c6f8c95-9429-4ef8-bcff-ef414fd71adf"
      },
      "execution_count": null,
      "outputs": [
        {
          "output_type": "display_data",
          "data": {
            "text/plain": [
              "<IPython.core.display.HTML object>"
            ],
            "text/html": [
              "\n",
              "     <input type=\"file\" id=\"files-0f392fd7-56e9-4eed-9db4-213182dc134f\" name=\"files[]\" multiple disabled\n",
              "        style=\"border:none\" />\n",
              "     <output id=\"result-0f392fd7-56e9-4eed-9db4-213182dc134f\">\n",
              "      Upload widget is only available when the cell has been executed in the\n",
              "      current browser session. Please rerun this cell to enable.\n",
              "      </output>\n",
              "      <script>// Copyright 2017 Google LLC\n",
              "//\n",
              "// Licensed under the Apache License, Version 2.0 (the \"License\");\n",
              "// you may not use this file except in compliance with the License.\n",
              "// You may obtain a copy of the License at\n",
              "//\n",
              "//      http://www.apache.org/licenses/LICENSE-2.0\n",
              "//\n",
              "// Unless required by applicable law or agreed to in writing, software\n",
              "// distributed under the License is distributed on an \"AS IS\" BASIS,\n",
              "// WITHOUT WARRANTIES OR CONDITIONS OF ANY KIND, either express or implied.\n",
              "// See the License for the specific language governing permissions and\n",
              "// limitations under the License.\n",
              "\n",
              "/**\n",
              " * @fileoverview Helpers for google.colab Python module.\n",
              " */\n",
              "(function(scope) {\n",
              "function span(text, styleAttributes = {}) {\n",
              "  const element = document.createElement('span');\n",
              "  element.textContent = text;\n",
              "  for (const key of Object.keys(styleAttributes)) {\n",
              "    element.style[key] = styleAttributes[key];\n",
              "  }\n",
              "  return element;\n",
              "}\n",
              "\n",
              "// Max number of bytes which will be uploaded at a time.\n",
              "const MAX_PAYLOAD_SIZE = 100 * 1024;\n",
              "\n",
              "function _uploadFiles(inputId, outputId) {\n",
              "  const steps = uploadFilesStep(inputId, outputId);\n",
              "  const outputElement = document.getElementById(outputId);\n",
              "  // Cache steps on the outputElement to make it available for the next call\n",
              "  // to uploadFilesContinue from Python.\n",
              "  outputElement.steps = steps;\n",
              "\n",
              "  return _uploadFilesContinue(outputId);\n",
              "}\n",
              "\n",
              "// This is roughly an async generator (not supported in the browser yet),\n",
              "// where there are multiple asynchronous steps and the Python side is going\n",
              "// to poll for completion of each step.\n",
              "// This uses a Promise to block the python side on completion of each step,\n",
              "// then passes the result of the previous step as the input to the next step.\n",
              "function _uploadFilesContinue(outputId) {\n",
              "  const outputElement = document.getElementById(outputId);\n",
              "  const steps = outputElement.steps;\n",
              "\n",
              "  const next = steps.next(outputElement.lastPromiseValue);\n",
              "  return Promise.resolve(next.value.promise).then((value) => {\n",
              "    // Cache the last promise value to make it available to the next\n",
              "    // step of the generator.\n",
              "    outputElement.lastPromiseValue = value;\n",
              "    return next.value.response;\n",
              "  });\n",
              "}\n",
              "\n",
              "/**\n",
              " * Generator function which is called between each async step of the upload\n",
              " * process.\n",
              " * @param {string} inputId Element ID of the input file picker element.\n",
              " * @param {string} outputId Element ID of the output display.\n",
              " * @return {!Iterable<!Object>} Iterable of next steps.\n",
              " */\n",
              "function* uploadFilesStep(inputId, outputId) {\n",
              "  const inputElement = document.getElementById(inputId);\n",
              "  inputElement.disabled = false;\n",
              "\n",
              "  const outputElement = document.getElementById(outputId);\n",
              "  outputElement.innerHTML = '';\n",
              "\n",
              "  const pickedPromise = new Promise((resolve) => {\n",
              "    inputElement.addEventListener('change', (e) => {\n",
              "      resolve(e.target.files);\n",
              "    });\n",
              "  });\n",
              "\n",
              "  const cancel = document.createElement('button');\n",
              "  inputElement.parentElement.appendChild(cancel);\n",
              "  cancel.textContent = 'Cancel upload';\n",
              "  const cancelPromise = new Promise((resolve) => {\n",
              "    cancel.onclick = () => {\n",
              "      resolve(null);\n",
              "    };\n",
              "  });\n",
              "\n",
              "  // Wait for the user to pick the files.\n",
              "  const files = yield {\n",
              "    promise: Promise.race([pickedPromise, cancelPromise]),\n",
              "    response: {\n",
              "      action: 'starting',\n",
              "    }\n",
              "  };\n",
              "\n",
              "  cancel.remove();\n",
              "\n",
              "  // Disable the input element since further picks are not allowed.\n",
              "  inputElement.disabled = true;\n",
              "\n",
              "  if (!files) {\n",
              "    return {\n",
              "      response: {\n",
              "        action: 'complete',\n",
              "      }\n",
              "    };\n",
              "  }\n",
              "\n",
              "  for (const file of files) {\n",
              "    const li = document.createElement('li');\n",
              "    li.append(span(file.name, {fontWeight: 'bold'}));\n",
              "    li.append(span(\n",
              "        `(${file.type || 'n/a'}) - ${file.size} bytes, ` +\n",
              "        `last modified: ${\n",
              "            file.lastModifiedDate ? file.lastModifiedDate.toLocaleDateString() :\n",
              "                                    'n/a'} - `));\n",
              "    const percent = span('0% done');\n",
              "    li.appendChild(percent);\n",
              "\n",
              "    outputElement.appendChild(li);\n",
              "\n",
              "    const fileDataPromise = new Promise((resolve) => {\n",
              "      const reader = new FileReader();\n",
              "      reader.onload = (e) => {\n",
              "        resolve(e.target.result);\n",
              "      };\n",
              "      reader.readAsArrayBuffer(file);\n",
              "    });\n",
              "    // Wait for the data to be ready.\n",
              "    let fileData = yield {\n",
              "      promise: fileDataPromise,\n",
              "      response: {\n",
              "        action: 'continue',\n",
              "      }\n",
              "    };\n",
              "\n",
              "    // Use a chunked sending to avoid message size limits. See b/62115660.\n",
              "    let position = 0;\n",
              "    do {\n",
              "      const length = Math.min(fileData.byteLength - position, MAX_PAYLOAD_SIZE);\n",
              "      const chunk = new Uint8Array(fileData, position, length);\n",
              "      position += length;\n",
              "\n",
              "      const base64 = btoa(String.fromCharCode.apply(null, chunk));\n",
              "      yield {\n",
              "        response: {\n",
              "          action: 'append',\n",
              "          file: file.name,\n",
              "          data: base64,\n",
              "        },\n",
              "      };\n",
              "\n",
              "      let percentDone = fileData.byteLength === 0 ?\n",
              "          100 :\n",
              "          Math.round((position / fileData.byteLength) * 100);\n",
              "      percent.textContent = `${percentDone}% done`;\n",
              "\n",
              "    } while (position < fileData.byteLength);\n",
              "  }\n",
              "\n",
              "  // All done.\n",
              "  yield {\n",
              "    response: {\n",
              "      action: 'complete',\n",
              "    }\n",
              "  };\n",
              "}\n",
              "\n",
              "scope.google = scope.google || {};\n",
              "scope.google.colab = scope.google.colab || {};\n",
              "scope.google.colab._files = {\n",
              "  _uploadFiles,\n",
              "  _uploadFilesContinue,\n",
              "};\n",
              "})(self);\n",
              "</script> "
            ]
          },
          "metadata": {}
        },
        {
          "output_type": "stream",
          "name": "stdout",
          "text": [
            "Saving lfw_yuz_tanima_modeli.h5 to lfw_yuz_tanima_modeli.h5\n"
          ]
        }
      ]
    },
    {
      "cell_type": "code",
      "source": [
        "import zipfile\n",
        "import os\n",
        "\n",
        "zip_path = \"/content/lfw-deepfunneled.zip\"  #veri setini zipten çıkarma\n",
        "extract_path = \"/content/lfw-deepfunneled\"\n",
        "\n",
        "with zipfile.ZipFile(zip_path, 'r') as zip_ref:\n",
        "    zip_ref.extractall(extract_path)\n",
        "\n",
        "print(\"Veri seti çıkarıldı.\")\n"
      ],
      "metadata": {
        "colab": {
          "base_uri": "https://localhost:8080/"
        },
        "id": "68IqOiHTSb8s",
        "outputId": "e1f6e4b8-a068-4f9b-875f-1bc3526a2b6c"
      },
      "execution_count": null,
      "outputs": [
        {
          "output_type": "stream",
          "name": "stdout",
          "text": [
            "Veri seti çıkarıldı.\n"
          ]
        }
      ]
    },
    {
      "cell_type": "code",
      "source": [
        "\n",
        "#klasörü olan kişilerin adlarını alabilmek için kopyalama\n",
        "import shutil\n",
        "\n",
        "kaynak_dizin=\"/content/lfw-deepfunneled/lfw-deepfunneled\"\n",
        "hedef_dizin=\"/content/filtered_face\"\n",
        "\n",
        "if not os.path.exists(hedef_dizin):\n",
        "  os.makedirs(hedef_dizin)\n",
        "\n",
        "filtrelenen_kisiler = []\n",
        "\n",
        "for kisi in os.listdir(kaynak_dizin):\n",
        "  kisi_klasor= os.path.join(kaynak_dizin,kisi)\n",
        "\n",
        "  if os.path.isdir(kisi_klasor):\n",
        "    resimler = os.listdir(kisi_klasor)\n",
        "\n",
        "    if( len(resimler)>=15):\n",
        "      filtrelenen_kisiler.append(kisi)\n",
        "      shutil.copytree(kisi_klasor,os.path.join(hedef_dizin,kisi))\n",
        "\n",
        "\n",
        "print(f\"Yeni kişi sayısı /15+ görsele sahip: {len(filtrelenen_kisiler)}\")\n",
        "print(\"Örnek Kişiler\",filtrelenen_kisiler[:5])\n",
        "\n"
      ],
      "metadata": {
        "colab": {
          "base_uri": "https://localhost:8080/"
        },
        "id": "hqUG9KyrS3cF",
        "outputId": "23979e69-d895-4f80-85c0-a48f7fc8bca6"
      },
      "execution_count": null,
      "outputs": [
        {
          "output_type": "stream",
          "name": "stdout",
          "text": [
            "Yeni kişi sayısı /15+ görsele sahip: 96\n",
            "Örnek Kişiler ['Jennifer_Lopez', 'Nancy_Pelosi', 'Pervez_Musharraf', 'Vladimir_Putin', 'Jennifer_Aniston']\n"
          ]
        }
      ]
    },
    {
      "cell_type": "code",
      "source": [
        "import os\n",
        "print(os.listdir(\"/content\"))\n",
        "\n"
      ],
      "metadata": {
        "colab": {
          "base_uri": "https://localhost:8080/"
        },
        "id": "EUl9PkHwXfXB",
        "outputId": "4c691530-e68d-4e99-9438-a80d0438cc9f"
      },
      "execution_count": null,
      "outputs": [
        {
          "output_type": "stream",
          "name": "stdout",
          "text": [
            "['.config', 'lfw-deepfunneled (1).zip', 'lfw-deepfunneled.zip', 'lfw_yuz_tanima_modeli.h5', 'lfw-deepfunneled', 'filtered_face', 'sample_data']\n"
          ]
        }
      ]
    },
    {
      "cell_type": "code",
      "source": [
        "#her kişinin bilgilerini ayırma\n",
        "\n",
        "import os, shutil\n",
        "from sklearn.model_selection import train_test_split\n",
        "\n",
        "ana_dizin = \"/content/filtered_face/lfw-deepfunneled\"  # Gerçek kişi klasörlerinin olduğu dizin\n",
        "hedef_dizin = \"/content/data_split\"\n",
        "train_klasoru = os.path.join(hedef_dizin, \"train\")\n",
        "test_klasoru = os.path.join(hedef_dizin, \"test\")\n",
        "\n",
        "# Varsa temizleme\n",
        "if os.path.exists(hedef_dizin):\n",
        "    shutil.rmtree(hedef_dizin)\n",
        "\n",
        "os.makedirs(train_klasoru)\n",
        "os.makedirs(test_klasoru)\n",
        "\n",
        "# Her kişi klasörü için işlem yapma\n",
        "for kisi in os.listdir(ana_dizin):\n",
        "    kisi_dizin = os.path.join(ana_dizin, kisi)\n",
        "    if not os.path.isdir(kisi_dizin):\n",
        "        continue\n",
        "\n",
        "    resimler = os.listdir(kisi_dizin)\n",
        "    if len(resimler) < 15:\n",
        "        continue\n",
        "\n",
        "    train_resimler, test_resimler = train_test_split(resimler, test_size=0.2, random_state=42)\n",
        "\n",
        "    os.makedirs(os.path.join(train_klasoru, kisi))\n",
        "    os.makedirs(os.path.join(test_klasoru, kisi))\n",
        "\n",
        "    for resim in train_resimler:\n",
        "        kaynak_yol = os.path.join(kisi_dizin, resim)\n",
        "        hedef_yol = os.path.join(train_klasoru, kisi, resim)\n",
        "        shutil.copy(kaynak_yol, hedef_yol)\n",
        "\n",
        "    for resim in test_resimler:\n",
        "        kaynak_yol = os.path.join(kisi_dizin, resim)\n",
        "        hedef_yol = os.path.join(test_klasoru, kisi, resim)\n",
        "        shutil.copy(kaynak_yol, hedef_yol)\n",
        "\n",
        "print(\" Eğitim ve test verisi başarıyla ayrıldı.\")\n",
        "\n"
      ],
      "metadata": {
        "colab": {
          "base_uri": "https://localhost:8080/"
        },
        "id": "yiXQdLsNX_tw",
        "outputId": "32dd3721-1a3a-4733-d182-6c001825d10d"
      },
      "execution_count": null,
      "outputs": [
        {
          "output_type": "stream",
          "name": "stdout",
          "text": [
            "✅ Eğitim ve test verisi başarıyla ayrıldı.\n"
          ]
        }
      ]
    },
    {
      "cell_type": "code",
      "source": [
        "print(os.listdir(\"/content/data_split/train\")[:5])\n"
      ],
      "metadata": {
        "colab": {
          "base_uri": "https://localhost:8080/"
        },
        "id": "qCGEbpIFYQ41",
        "outputId": "4d667946-8884-415e-bfec-11e5c4704097"
      },
      "execution_count": null,
      "outputs": [
        {
          "output_type": "stream",
          "name": "stdout",
          "text": [
            "['Jennifer_Lopez', 'Nancy_Pelosi', 'Pervez_Musharraf', 'Vladimir_Putin', 'Jennifer_Aniston']\n"
          ]
        }
      ]
    },
    {
      "cell_type": "code",
      "source": [
        "from tensorflow.keras.preprocessing.image import ImageDataGenerator\n",
        "\n",
        "datagen = ImageDataGenerator(rescale=1./255)\n",
        "train_gen = datagen.flow_from_directory(\n",
        "    \"/content/data_split/train\",\n",
        "    target_size=(100, 100),\n",
        "    batch_size=32,\n",
        "    class_mode='categorical'\n",
        ")\n",
        "\n",
        "# Sınıf adlarını kontrol edelim\n",
        "print(train_gen.class_indices)\n"
      ],
      "metadata": {
        "colab": {
          "base_uri": "https://localhost:8080/"
        },
        "id": "F43zDYOJYas4",
        "outputId": "1ed2e72c-35d4-4fe6-f93f-5f1d45e3df30"
      },
      "execution_count": null,
      "outputs": [
        {
          "output_type": "stream",
          "name": "stdout",
          "text": [
            "Found 2839 images belonging to 96 classes.\n",
            "{'Abdullah_Gul': 0, 'Alejandro_Toledo': 1, 'Alvaro_Uribe': 2, 'Amelie_Mauresmo': 3, 'Andre_Agassi': 4, 'Andy_Roddick': 5, 'Angelina_Jolie': 6, 'Ariel_Sharon': 7, 'Arnold_Schwarzenegger': 8, 'Atal_Bihari_Vajpayee': 9, 'Bill_Clinton': 10, 'Bill_Gates': 11, 'Bill_Simon': 12, 'Carlos_Menem': 13, 'Carlos_Moya': 14, 'Colin_Powell': 15, 'David_Beckham': 16, 'Dominique_de_Villepin': 17, 'Donald_Rumsfeld': 18, 'Fidel_Castro': 19, 'George_Robertson': 20, 'George_W_Bush': 21, 'Gerhard_Schroeder': 22, 'Gloria_Macapagal_Arroyo': 23, 'Gray_Davis': 24, 'Guillermo_Coria': 25, 'Halle_Berry': 26, 'Hamid_Karzai': 27, 'Hans_Blix': 28, 'Hu_Jintao': 29, 'Hugo_Chavez': 30, 'Igor_Ivanov': 31, 'Jack_Straw': 32, 'Jacques_Chirac': 33, 'Jean_Charest': 34, 'Jean_Chretien': 35, 'Jennifer_Aniston': 36, 'Jennifer_Capriati': 37, 'Jennifer_Lopez': 38, 'Jeremy_Greenstock': 39, 'Jiang_Zemin': 40, 'John_Ashcroft': 41, 'John_Bolton': 42, 'John_Howard': 43, 'John_Kerry': 44, 'John_Negroponte': 45, 'John_Snow': 46, 'Joschka_Fischer': 47, 'Jose_Maria_Aznar': 48, 'Juan_Carlos_Ferrero': 49, 'Julianne_Moore': 50, 'Julie_Gerberding': 51, 'Junichiro_Koizumi': 52, 'Kofi_Annan': 53, 'Lance_Armstrong': 54, 'Laura_Bush': 55, 'Lindsay_Davenport': 56, 'Lleyton_Hewitt': 57, 'Luiz_Inacio_Lula_da_Silva': 58, 'Mahmoud_Abbas': 59, 'Megawati_Sukarnoputri': 60, 'Meryl_Streep': 61, 'Michael_Bloomberg': 62, 'Michael_Schumacher': 63, 'Mohammed_Al-Douri': 64, 'Nancy_Pelosi': 65, 'Naomi_Watts': 66, 'Nestor_Kirchner': 67, 'Nicole_Kidman': 68, 'Norah_Jones': 69, 'Paul_Bremer': 70, 'Pervez_Musharraf': 71, 'Pete_Sampras': 72, 'Pierce_Brosnan': 73, 'Recep_Tayyip_Erdogan': 74, 'Renee_Zellweger': 75, 'Ricardo_Lagos': 76, 'Richard_Myers': 77, 'Roh_Moo-hyun': 78, 'Rudolph_Giuliani': 79, 'Saddam_Hussein': 80, 'Serena_Williams': 81, 'Silvio_Berlusconi': 82, 'Spencer_Abraham': 83, 'Taha_Yassin_Ramadan': 84, 'Tiger_Woods': 85, 'Tim_Henman': 86, 'Tom_Daschle': 87, 'Tom_Ridge': 88, 'Tommy_Franks': 89, 'Tony_Blair': 90, 'Trent_Lott': 91, 'Venus_Williams': 92, 'Vicente_Fox': 93, 'Vladimir_Putin': 94, 'Winona_Ryder': 95}\n"
          ]
        }
      ]
    },
    {
      "cell_type": "code",
      "source": [
        "import json\n",
        "\n",
        "with open(\"class_indices.json\", \"w\") as f:\n",
        "    json.dump(train_gen.class_indices, f)\n"
      ],
      "metadata": {
        "id": "73sitmg3Yj_w"
      },
      "execution_count": null,
      "outputs": []
    },
    {
      "cell_type": "code",
      "source": [
        "from google.colab import files\n",
        "files.download(\"class_indices.json\")\n"
      ],
      "metadata": {
        "colab": {
          "base_uri": "https://localhost:8080/",
          "height": 17
        },
        "id": "HsoAu0sCYl9b",
        "outputId": "6c73fb9b-e022-448c-cecd-7b953f0de6da"
      },
      "execution_count": null,
      "outputs": [
        {
          "output_type": "display_data",
          "data": {
            "text/plain": [
              "<IPython.core.display.Javascript object>"
            ],
            "application/javascript": [
              "\n",
              "    async function download(id, filename, size) {\n",
              "      if (!google.colab.kernel.accessAllowed) {\n",
              "        return;\n",
              "      }\n",
              "      const div = document.createElement('div');\n",
              "      const label = document.createElement('label');\n",
              "      label.textContent = `Downloading \"${filename}\": `;\n",
              "      div.appendChild(label);\n",
              "      const progress = document.createElement('progress');\n",
              "      progress.max = size;\n",
              "      div.appendChild(progress);\n",
              "      document.body.appendChild(div);\n",
              "\n",
              "      const buffers = [];\n",
              "      let downloaded = 0;\n",
              "\n",
              "      const channel = await google.colab.kernel.comms.open(id);\n",
              "      // Send a message to notify the kernel that we're ready.\n",
              "      channel.send({})\n",
              "\n",
              "      for await (const message of channel.messages) {\n",
              "        // Send a message to notify the kernel that we're ready.\n",
              "        channel.send({})\n",
              "        if (message.buffers) {\n",
              "          for (const buffer of message.buffers) {\n",
              "            buffers.push(buffer);\n",
              "            downloaded += buffer.byteLength;\n",
              "            progress.value = downloaded;\n",
              "          }\n",
              "        }\n",
              "      }\n",
              "      const blob = new Blob(buffers, {type: 'application/binary'});\n",
              "      const a = document.createElement('a');\n",
              "      a.href = window.URL.createObjectURL(blob);\n",
              "      a.download = filename;\n",
              "      div.appendChild(a);\n",
              "      a.click();\n",
              "      div.remove();\n",
              "    }\n",
              "  "
            ]
          },
          "metadata": {}
        },
        {
          "output_type": "display_data",
          "data": {
            "text/plain": [
              "<IPython.core.display.Javascript object>"
            ],
            "application/javascript": [
              "download(\"download_345dba16-c0cf-47ea-be9e-28a50ba7ff74\", \"class_indices.json\", 2076)"
            ]
          },
          "metadata": {}
        }
      ]
    },
    {
      "cell_type": "code",
      "source": [
        "#Modeli test etme\n",
        "import tensorflow as tf\n",
        "import numpy as np\n",
        "from tensorflow.keras.preprocessing import image\n",
        "import json\n",
        "import os"
      ],
      "metadata": {
        "id": "2zoPsy50ZC5Z"
      },
      "execution_count": null,
      "outputs": []
    },
    {
      "cell_type": "code",
      "source": [
        "# Modeli yükle\n",
        "model = tf.keras.models.load_model(\"lfw_yuz_tanima_modeli.h5\")\n",
        "\n",
        "# class_indices'i yükle\n",
        "with open(\"class_indices.json\", \"r\") as f:\n",
        "    class_indices = json.load(f)\n",
        "\n",
        "# id → etiket dönüşümü\n",
        "class_labels = {v: k for k, v in class_indices.items()}\n"
      ],
      "metadata": {
        "colab": {
          "base_uri": "https://localhost:8080/"
        },
        "id": "1G2uVabMZVFw",
        "outputId": "9e106413-60be-4ed4-e9ad-b0a5c4b96f60"
      },
      "execution_count": null,
      "outputs": [
        {
          "output_type": "stream",
          "name": "stderr",
          "text": [
            "WARNING:absl:Compiled the loaded model, but the compiled metrics have yet to be built. `model.compile_metrics` will be empty until you train or evaluate the model.\n"
          ]
        }
      ]
    },
    {
      "cell_type": "code",
      "source": [
        "#test Klasöründen Örnek Görsel Yükleyip Tahmin Etme\n",
        "import matplotlib.pyplot as plt\n",
        "\n",
        "\n",
        "ornek_kisi = \"Abdullah_Gul\"\n",
        "ornek_gorsel=os.path.join(\"data_split/test\",ornek_kisi,os.listdir(os.path.join(\"data_split/test\",ornek_kisi))[0])\n",
        "\n",
        "\n",
        "#Görselin yüklenmesi ve önişleme\n",
        "\n",
        "img=image.load_img(ornek_gorsel, target_size=(100,100))\n",
        "\n",
        "img_array= image.img_to_array(img)\n",
        "\n",
        "img_array= img_array/255.0#normalizasyon\n",
        "img_array = np.expand_dims(img_array,axis=0)\n",
        "\n",
        "\n",
        "tahmin= model.predict(img_array)\n",
        "tahmin_sinif=np.argmax(tahmin)\n",
        "\n",
        "print(\"Gerçek kişi\",ornek_kisi)\n",
        "print(\"Tahmin edilen kişi:\", class_labels[tahmin_sinif])\n",
        "\n",
        "\n",
        "plt.imshow(img)\n",
        "plt.title(f\"Tahmin: {class_labels[tahmin_sinif]}\")\n",
        "plt.axis(\"off\")\n",
        "plt.show()\n"
      ],
      "metadata": {
        "colab": {
          "base_uri": "https://localhost:8080/",
          "height": 480
        },
        "id": "MHeNn6qMZXu2",
        "outputId": "1377ff41-2bc3-4a8e-ece0-20ae73eed60c"
      },
      "execution_count": null,
      "outputs": [
        {
          "output_type": "stream",
          "name": "stdout",
          "text": [
            "\u001b[1m1/1\u001b[0m \u001b[32m━━━━━━━━━━━━━━━━━━━━\u001b[0m\u001b[37m\u001b[0m \u001b[1m0s\u001b[0m 47ms/step\n",
            "Gerçek kişi Abdullah_Gul\n",
            "Tahmin edilen kişi: Abdullah_Gul\n"
          ]
        },
        {
          "output_type": "display_data",
          "data": {
            "text/plain": [
              "<Figure size 640x480 with 1 Axes>"
            ],
            "image/png": "[encoded data removed]"
          },
          "metadata": {}
        }
      ]
    }
  ]
}