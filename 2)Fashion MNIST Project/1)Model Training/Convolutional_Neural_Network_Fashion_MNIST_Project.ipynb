{
  "nbformat": 4,
  "nbformat_minor": 0,
  "metadata": {
    "colab": {
      "provenance": []
    },
    "kernelspec": {
      "name": "python3",
      "display_name": "Python 3"
    },
    "language_info": {
      "name": "python"
    }
  },
  "cells": [
    {
      "cell_type": "code",
      "execution_count": null,
      "metadata": {
        "id": "SCXg_LzrcHYA"
      },
      "outputs": [],
      "source": [
        "#Fashion MNIST\n",
        "\n",
        "#daha önce cnn ile yaptığımız mnist veri seti çalışmasını bu sefer\n",
        "#farklı bir mnist veri seti ile yapacğız moda ile alakalı olanı"
      ]
    },
    {
      "cell_type": "code",
      "source": [
        "import tensorflow as tf\n",
        "from tensorflow.keras.models import Sequential, load_model\n",
        "from tensorflow.keras.layers import Conv2D, MaxPooling2D,Flatten, Dense\n",
        "from tensorflow.keras.utils import to_categorical\n",
        "from tensorflow.keras.datasets import fashion_mnist\n",
        "import matplotlib.pyplot as plt\n",
        "import numpy as np\n"
      ],
      "metadata": {
        "id": "Jo6MBkGOiENB"
      },
      "execution_count": null,
      "outputs": []
    },
    {
      "cell_type": "code",
      "source": [
        "#Veri Seti Yükleme ve Kontrol Etme\n",
        "\n",
        "(x_train, y_train),(x_test, y_test)=fashion_mnist.load_data()\n",
        "#veri setini yükleyerek eğitim ve test verisi olarak ayırma\n",
        "#(x_train,y_train)--->eğitim görselleri ve etiketleri\n",
        "#(x_test, y_test) --->test görsel ve etiketleri\n",
        "\n",
        "\n",
        "print(\"Eğitim verisi şekli:\",x_train.shape)\n",
        "print(\"Test verisi şekli\",x_test.shape)\n",
        "#şekillerin kontrolü\n"
      ],
      "metadata": {
        "colab": {
          "base_uri": "https://localhost:8080/"
        },
        "id": "zBMsKVpWirFD",
        "outputId": "82d36834-20f3-4950-fbb7-2a6f3c2ad770"
      },
      "execution_count": null,
      "outputs": [
        {
          "output_type": "stream",
          "name": "stdout",
          "text": [
            "Downloading data from https://storage.googleapis.com/tensorflow/tf-keras-datasets/train-labels-idx1-ubyte.gz\n",
            "\u001b[1m29515/29515\u001b[0m \u001b[32m━━━━━━━━━━━━━━━━━━━━\u001b[0m\u001b[37m\u001b[0m \u001b[1m0s\u001b[0m 0us/step\n",
            "Downloading data from https://storage.googleapis.com/tensorflow/tf-keras-datasets/train-images-idx3-ubyte.gz\n",
            "\u001b[1m26421880/26421880\u001b[0m \u001b[32m━━━━━━━━━━━━━━━━━━━━\u001b[0m\u001b[37m\u001b[0m \u001b[1m1s\u001b[0m 0us/step\n",
            "Downloading data from https://storage.googleapis.com/tensorflow/tf-keras-datasets/t10k-labels-idx1-ubyte.gz\n",
            "\u001b[1m5148/5148\u001b[0m \u001b[32m━━━━━━━━━━━━━━━━━━━━\u001b[0m\u001b[37m\u001b[0m \u001b[1m0s\u001b[0m 0us/step\n",
            "Downloading data from https://storage.googleapis.com/tensorflow/tf-keras-datasets/t10k-images-idx3-ubyte.gz\n",
            "\u001b[1m4422102/4422102\u001b[0m \u001b[32m━━━━━━━━━━━━━━━━━━━━\u001b[0m\u001b[37m\u001b[0m \u001b[1m1s\u001b[0m 0us/step\n",
            "Eğitim verisi şekli: (60000, 28, 28)\n",
            "Test verisi şekli (10000, 28, 28)\n"
          ]
        }
      ]
    },
    {
      "cell_type": "code",
      "source": [
        "#Ön işleme ve One-hot Encode\n",
        "\n",
        "x_train = x_train/255.0\n",
        "x_test = x_test/255.0\n",
        "#Görsellerde veri seti 0-255 arasındadır daha hızlı ve stabil\n",
        "#eğitim için 0-1 arasında normalize etmeliyiz.\n",
        "\n",
        "x_train = x_train.reshape(-1,28,28,1)\n",
        "x_test = x_test.reshape(-1,28,28,1)\n",
        "#CNN modeli 4 parametre alir\n",
        "\"\"\"\n",
        "örnek sayısı,\n",
        "genişlik\n",
        "yükseklik\n",
        "kanal\n",
        "\"\"\"\n",
        "#Gri toonlamalı olmdığı için kanal sayısı 1\n",
        "\n",
        "y_train = to_categorical(y_train,10)\n",
        "y_test = to_categorical(y_test,10)\n",
        "#etiketleri one-hot encode etmek\n"
      ],
      "metadata": {
        "id": "RsbmsK20jGJL"
      },
      "execution_count": null,
      "outputs": []
    },
    {
      "cell_type": "code",
      "source": [
        "#Kategori Etiketleri(Sınıf Adları)\n",
        "\n",
        "#0-9 arası sınıf isimleri\n",
        "\n",
        "etiket_isimleri = [\n",
        "    \"T-shirt/top\",\"Pantolon\",\"Kazak\",\"Elbise\",\"Palto\",\n",
        "    \"Sandalet\",\"Gömlek\",\"Spor Ayakkabı\",\"Çanta\",\"Bot\"\n",
        "]"
      ],
      "metadata": {
        "id": "Owk6BSDbjm6X"
      },
      "execution_count": null,
      "outputs": []
    },
    {
      "cell_type": "code",
      "source": [
        "#CNN Modeli Oluşturma\n",
        "\n",
        "#sıralı bir model oluşturmak için\n",
        "model =Sequential()\n",
        "\n",
        "model.add(Conv2D(32, (3,3 ),activation='relu', input_shape=(28,28,1)))\n",
        "#ilk katman iin 32 filtre 3x3 boyut ReLU aktivasyonu\n",
        "#Bu kartman kenar,köşe, gibi  özellikleri taşır\n",
        "\n",
        "model.add(MaxPooling2D((2,2)))\n",
        "#ilk MaxPooling katmanı\n",
        "\n",
        "\"\"\"\n",
        "Görseli küçültür (2x2) önemli bilgileri tutar\n",
        "(boyutu azaktı overfitting riskini düşürür)\n",
        "\"\"\"\n",
        "\n",
        "model.add(Conv2D(64, (3,3),activation='relu'))\n",
        "#İkinci convulational katman Görselleri daha derin tanır\n",
        "\n",
        "model.add(MaxPooling2D((2,2)))\n",
        "#ikinci maxpooling\n",
        "\n",
        "model.add(Flatten())\n",
        "#Flatten katmanı 2D görrüntüyüü düzleştirir->1D ye çevirir\n",
        "\n",
        "model.add(Dense(128, activation='relu'))\n",
        "#Dense -->Öğrenilen özelliklere göre sınıflandırma yapar\n",
        "\n",
        "model.add(Dense(10,activation='softmax'))\n",
        "#Çıkış katmanı 10 sınıf olduğu için 10 nöron, softmax ile olasılık tahmini yapılır"
      ],
      "metadata": {
        "colab": {
          "base_uri": "https://localhost:8080/"
        },
        "id": "k7haNYyfj8jy",
        "outputId": "50811de0-90b6-4ae1-ddf0-2c88591b8c53"
      },
      "execution_count": null,
      "outputs": [
        {
          "output_type": "stream",
          "name": "stderr",
          "text": [
            "/usr/local/lib/python3.11/dist-packages/keras/src/layers/convolutional/base_conv.py:107: UserWarning: Do not pass an `input_shape`/`input_dim` argument to a layer. When using Sequential models, prefer using an `Input(shape)` object as the first layer in the model instead.\n",
            "  super().__init__(activity_regularizer=activity_regularizer, **kwargs)\n"
          ]
        }
      ]
    },
    {
      "cell_type": "code",
      "source": [
        "#Model Derleme\n",
        "\n",
        "#Modeli derlerken oprtimizer kayıp fonksiyonları ve başarı metriği belirleniyor\n",
        "\n",
        "model.compile(\n",
        "    optimizer='adam',  #Ağırlıkları güncellemek için kullanılan algoritma\n",
        "    loss='categorical_crossentropy', #Çok sınıflı sınıflandırmalar için uygun kayıp\n",
        "    metrics=['accuracy'] # Doğruluk oranını ölçme\n",
        ")"
      ],
      "metadata": {
        "id": "7-mO1aJ-nZfk"
      },
      "execution_count": null,
      "outputs": []
    },
    {
      "cell_type": "code",
      "source": [
        "#Model Eğitimi\n",
        "\n",
        "#modeli eğitimek için epıchs 5 oldu 5 kez tüm veriler modelden geçecek\n",
        "#her adıdmda 128 örnek kullanılacak\n",
        "\n",
        "model.fit(\n",
        "    x_train,y_train,\n",
        "    epochs=5,\n",
        "    batch_size=128,\n",
        "    validation_data=(x_test,y_test) #Eğitim sırasında test başarımını ölç\n",
        ")"
      ],
      "metadata": {
        "colab": {
          "base_uri": "https://localhost:8080/"
        },
        "id": "qNNnvNBan0vD",
        "outputId": "bcdc6388-cb13-4d7a-8727-c39bf90e5e1d"
      },
      "execution_count": null,
      "outputs": [
        {
          "output_type": "stream",
          "name": "stdout",
          "text": [
            "Epoch 1/5\n",
            "\u001b[1m469/469\u001b[0m \u001b[32m━━━━━━━━━━━━━━━━━━━━\u001b[0m\u001b[37m\u001b[0m \u001b[1m55s\u001b[0m 113ms/step - accuracy: 0.7100 - loss: 0.7990 - val_accuracy: 0.8582 - val_loss: 0.4065\n",
            "Epoch 2/5\n",
            "\u001b[1m469/469\u001b[0m \u001b[32m━━━━━━━━━━━━━━━━━━━━\u001b[0m\u001b[37m\u001b[0m \u001b[1m78s\u001b[0m 105ms/step - accuracy: 0.8714 - loss: 0.3586 - val_accuracy: 0.8679 - val_loss: 0.3603\n",
            "Epoch 3/5\n",
            "\u001b[1m469/469\u001b[0m \u001b[32m━━━━━━━━━━━━━━━━━━━━\u001b[0m\u001b[37m\u001b[0m \u001b[1m82s\u001b[0m 104ms/step - accuracy: 0.8855 - loss: 0.3147 - val_accuracy: 0.8860 - val_loss: 0.3209\n",
            "Epoch 4/5\n",
            "\u001b[1m469/469\u001b[0m \u001b[32m━━━━━━━━━━━━━━━━━━━━\u001b[0m\u001b[37m\u001b[0m \u001b[1m82s\u001b[0m 105ms/step - accuracy: 0.8998 - loss: 0.2768 - val_accuracy: 0.8952 - val_loss: 0.2930\n",
            "Epoch 5/5\n",
            "\u001b[1m469/469\u001b[0m \u001b[32m━━━━━━━━━━━━━━━━━━━━\u001b[0m\u001b[37m\u001b[0m \u001b[1m82s\u001b[0m 106ms/step - accuracy: 0.9076 - loss: 0.2539 - val_accuracy: 0.9009 - val_loss: 0.2775\n"
          ]
        },
        {
          "output_type": "execute_result",
          "data": {
            "text/plain": [
              "<keras.src.callbacks.history.History at 0x7cfecda62610>"
            ]
          },
          "metadata": {},
          "execution_count": 13
        }
      ]
    },
    {
      "cell_type": "code",
      "source": [
        "#Eğitilen Modeli Kaydetmek\n",
        "\n",
        "model.save(\"fashion_mnist_modeli.h5\")\n",
        "print(\"Model başarıyla kaydedildi\")"
      ],
      "metadata": {
        "colab": {
          "base_uri": "https://localhost:8080/"
        },
        "id": "c_t_UQTNpv27",
        "outputId": "e77ca23b-36d9-42ad-c428-e8eca6cd31e6"
      },
      "execution_count": null,
      "outputs": [
        {
          "output_type": "stream",
          "name": "stderr",
          "text": [
            "WARNING:absl:You are saving your model as an HDF5 file via `model.save()` or `keras.saving.save_model(model)`. This file format is considered legacy. We recommend using instead the native Keras format, e.g. `model.save('my_model.keras')` or `keras.saving.save_model(model, 'my_model.keras')`. \n"
          ]
        },
        {
          "output_type": "stream",
          "name": "stdout",
          "text": [
            "Model başarıyla kaydedildi\n"
          ]
        }
      ]
    },
    {
      "cell_type": "code",
      "source": [
        "#Modeli İndirme\n",
        "from google.colab import files\n",
        "\n",
        "# Daha önce kaydettiğin model dosyasını indir\n",
        "files.download(\"fashion_mnist_modeli.h5\")\n"
      ],
      "metadata": {
        "colab": {
          "base_uri": "https://localhost:8080/",
          "height": 17
        },
        "id": "TFG59c5AqEXi",
        "outputId": "b18f4259-fdc2-4802-8468-4f1c950dfd7d"
      },
      "execution_count": null,
      "outputs": [
        {
          "output_type": "display_data",
          "data": {
            "text/plain": [
              "<IPython.core.display.Javascript object>"
            ],
            "application/javascript": [
              "\n",
              "    async function download(id, filename, size) {\n",
              "      if (!google.colab.kernel.accessAllowed) {\n",
              "        return;\n",
              "      }\n",
              "      const div = document.createElement('div');\n",
              "      const label = document.createElement('label');\n",
              "      label.textContent = `Downloading \"${filename}\": `;\n",
              "      div.appendChild(label);\n",
              "      const progress = document.createElement('progress');\n",
              "      progress.max = size;\n",
              "      div.appendChild(progress);\n",
              "      document.body.appendChild(div);\n",
              "\n",
              "      const buffers = [];\n",
              "      let downloaded = 0;\n",
              "\n",
              "      const channel = await google.colab.kernel.comms.open(id);\n",
              "      // Send a message to notify the kernel that we're ready.\n",
              "      channel.send({})\n",
              "\n",
              "      for await (const message of channel.messages) {\n",
              "        // Send a message to notify the kernel that we're ready.\n",
              "        channel.send({})\n",
              "        if (message.buffers) {\n",
              "          for (const buffer of message.buffers) {\n",
              "            buffers.push(buffer);\n",
              "            downloaded += buffer.byteLength;\n",
              "            progress.value = downloaded;\n",
              "          }\n",
              "        }\n",
              "      }\n",
              "      const blob = new Blob(buffers, {type: 'application/binary'});\n",
              "      const a = document.createElement('a');\n",
              "      a.href = window.URL.createObjectURL(blob);\n",
              "      a.download = filename;\n",
              "      div.appendChild(a);\n",
              "      a.click();\n",
              "      div.remove();\n",
              "    }\n",
              "  "
            ]
          },
          "metadata": {}
        },
        {
          "output_type": "display_data",
          "data": {
            "text/plain": [
              "<IPython.core.display.Javascript object>"
            ],
            "application/javascript": [
              "download(\"download_9d8516f9-640d-4f32-b921-fc3e5c72c788\", \"fashion_mnist_modeli.h5\", 2740168)"
            ]
          },
          "metadata": {}
        }
      ]
    }
  ]
}